{
 "cells": [
  {
   "cell_type": "code",
   "execution_count": null,
   "id": "a3d8acd1",
   "metadata": {},
   "outputs": [],
   "source": [
    "QUESTION 3"
   ]
  },
  {
   "cell_type": "code",
   "execution_count": null,
   "id": "62662eba",
   "metadata": {},
   "outputs": [],
   "source": [
    "import random\n",
    "\n",
    "def monty_hall_simulation(num_trials=10000):\n",
    "    # Count wins when switching and not switching\n",
    "    switch_wins = 0\n",
    "    stay_wins = 0\n",
    "\n",
    "    for _ in range(num_trials):\n",
    "        # Step 1: Randomly place the car behind one of the doors (0, 1, 2)\n",
    "        car = random.randint(0, 2)\n",
    "        \n",
    "        # Step 2: The player makes an initial choice of a door (0, 1, 2)\n",
    "        player_choice = random.randint(0, 2)\n",
    "\n",
    "        # Step 3: Determine which door Monty opens (he cannot open the door with the car or the player's choice)\n",
    "        monty_options = [i for i in range(3) if i != player_choice and i != car]\n",
    "        monty_opens = random.choice(monty_options)\n",
    "\n",
    "        # Step 4: Determine the door to switch to (the one that the player did not choose or Monty opened)\n",
    "        switch_choice = next(i for i in range(3) if i != player_choice and i != monty_opens)\n",
    "\n",
    "        # Step 5: Count wins for both strategies\n",
    "        if switch_choice == car:\n",
    "            switch_wins += 1\n",
    "        if player_choice == car:\n",
    "            stay_wins += 1\n",
    "\n",
    "    # Step 6: Calculate probabilities\n",
    "    switch_prob = switch_wins / num_trials\n",
    "    stay_prob = stay_wins / num_trials\n",
    "\n",
    "    return switch_prob, stay_prob\n",
    "\n",
    "# Run the simulation and print the results\n",
    "num_trials = 10000  # Number of trials to run\n",
    "switch_probability, stay_probability = monty_hall_simulation(num_trials)\n",
    "print(f\"Switching wins probability: {switch_probability:.2f}\")\n",
    "print(f\"Staying wins probability: {stay_probability:.2f}\")\n"
   ]
  },
  {
   "cell_type": "markdown",
   "id": "70932a77",
   "metadata": {},
   "source": [
    "Explanation of Each Line:\n",
    "Import random: This imports the random module, which allows us to use random number generation functions.\n",
    "Define monty_hall_simulation: This function simulates the Monty Hall problem over a specified number of trials.\n",
    "Initialize counters: switch_wins and stay_wins keep track of how many times the player wins when switching and staying, respectively.\n",
    "Loop through trials: The for loop runs for the number of trials specified.\n",
    "Randomly place the car: car randomly selects one of the doors to hide the car.\n",
    "Player's initial choice: player_choice randomly selects a door as the player’s first choice.\n",
    "Determine Monty’s choice: monty_options creates a list of doors Monty can open (not the player’s choice or the car’s door).\n",
    "Monty opens a door: monty_opens randomly selects one of the doors Monty can open.\n",
    "Determine the switch choice: switch_choice finds the door the player can switch to (not the player’s choice or the one Monty opened).\n",
    "Count wins: The if statements check if the switch or stay strategy won and increment the respective counters.\n",
    "Calculate probabilities: switch_prob and stay_prob calculate the win probabilities for switching and staying.\n",
    "Run the simulation: Calls the function with num_trials and captures the results.\n",
    "Print results: Displays the probabilities of winning when switching versus staying."
   ]
  },
  {
   "cell_type": "code",
   "execution_count": 1,
   "id": "4f4b197f",
   "metadata": {},
   "outputs": [
    {
     "name": "stdout",
     "output_type": "stream",
     "text": [
      "sample text this is a sample text this is another\n"
     ]
    }
   ],
   "source": [
    "import random\n",
    "from collections import defaultdict\n",
    "\n",
    "# Assuming `words` is a list of words in your training data\n",
    "words = [\"this\", \"is\", \"a\", \"sample\", \"text\", \"this\", \"is\", \"another\", \"example\"]\n",
    "\n",
    "# Step 1: Create data structures for word counts\n",
    "word_used = defaultdict(int)\n",
    "next_word = defaultdict(list)\n",
    "\n",
    "# Step 2: Build the Markov chain model\n",
    "for i in range(len(words) - 1):\n",
    "    word = words[i]\n",
    "    next_word[word].append(words[i + 1])\n",
    "\n",
    "# Step 3: Generate a sentence from the model\n",
    "def generate_sentence(start_word, length=10):\n",
    "    sentence = [start_word]\n",
    "    current_word = start_word\n",
    "    for _ in range(length - 1):\n",
    "        if current_word not in next_word:\n",
    "            break\n",
    "        current_word = random.choice(next_word[current_word])\n",
    "        sentence.append(current_word)\n",
    "    return ' '.join(sentence)\n",
    "\n",
    "# Example usage\n",
    "start_word = random.choice(words)  # Choose a random start word from the text\n",
    "print(generate_sentence(start_word))\n"
   ]
  },
  {
   "cell_type": "markdown",
   "id": "258f863f",
   "metadata": {},
   "source": [
    "1.defaultdict(list): Instead of counting how often each word appears, we just keep track of which words follow each other in a list.\n",
    "\n",
    "2.random.choice(): When generating a sentence, we randomly pick the next word from the list of words that usually come after the current word.\n",
    "\n",
    "3.Sentence generation: The code starts with a word, then keeps adding the next word until the sentence reaches the desired length or no more words can follow."
   ]
  },
  {
   "cell_type": "markdown",
   "id": "c05e7742",
   "metadata": {
    "slideshow": {
     "slide_type": "slide"
    }
   },
   "source": [
    "I asked ChatGPT to improve my code into another leven not just using only one previous word and withouth further conversation it gave me this code*"
   ]
  },
  {
   "cell_type": "code",
   "execution_count": null,
   "id": "a7cf0f50",
   "metadata": {},
   "outputs": [],
   "source": [
    "import random\n",
    "from collections import defaultdict\n",
    "\n",
    "# Assuming `words` is a list of words in your training data\n",
    "words = [\"this\", \"is\", \"a\", \"sample\", \"text\", \"this\", \"is\", \"another\", \"example\"]\n",
    "\n",
    "# Step 1: Create data structures for word pairs\n",
    "next_word = defaultdict(list)\n",
    "\n",
    "# Step 2: Build the Markov chain with word pairs (bigrams)\n",
    "for i in range(len(words) - 2):\n",
    "    pair = (words[i], words[i + 1])  # Current word pair (bigram)\n",
    "    next_word[pair].append(words[i + 2])  # Next word\n",
    "\n",
    "# Step 3: Generate a sentence using the Markov chain\n",
    "def generate_sentence(start_word1, start_word2, length=10):\n",
    "    sentence = [start_word1, start_word2]\n",
    "    current_pair = (start_word1, start_word2)\n",
    "    \n",
    "    for _ in range(length - 2):\n",
    "        if current_pair not in next_word:\n",
    "            break\n",
    "        next_word_choice = random.choice(next_word[current_pair])  # Pick next word based on the pair\n",
    "        sentence.append(next_word_choice)\n",
    "        current_pair = (current_pair[1], next_word_choice)  # Update current pair to the last two words\n",
    "\n",
    "    return ' '.join(sentence)\n",
    "\n",
    "# Example usage\n",
    "start_word1, start_word2 = random.choice(list(next_word.keys()))  # Randomly choose a starting pair\n",
    "print(generate_sentence(start_word1, start_word2))\n"
   ]
  },
  {
   "cell_type": "markdown",
   "id": "313432ce",
   "metadata": {},
   "source": [
    "Furthermore, I asked it to be more"
   ]
  },
  {
   "cell_type": "code",
   "execution_count": null,
   "id": "2fab33ca",
   "metadata": {},
   "outputs": [],
   "source": [
    "import random\n",
    "from collections import defaultdict\n",
    "\n",
    "# Sample list of words (replace with your own)\n",
    "words = [\"this\", \"is\", \"a\", \"sample\", \"text\", \"this\", \"is\", \"another\", \"example\"]\n",
    "\n",
    "# Step 1: Build the Markov chain with word pairs\n",
    "next_word = defaultdict(list)\n",
    "for i in range(len(words) - 2):\n",
    "    next_word[(words[i], words[i+1])].append(words[i+2])\n",
    "\n",
    "# Lambda function to get the last two words from the sentence\n",
    "get_last_pair = lambda sentence: tuple(sentence[-2:])\n",
    "\n",
    "# Step 2: Generate a sentence from the word pairs\n",
    "def generate_sentence(start_pair, length=10):\n",
    "    sentence = list(start_pair)\n",
    "    for _ in range(length - 2):\n",
    "        pair = get_last_pair(sentence)\n",
    "        if pair not in next_word:\n",
    "            break\n",
    "        sentence.append(random.choice(next_word[pair]))\n",
    "    return ' '.join(sentence)\n",
    "\n",
    "# Example usage\n",
    "start_pair = random.choice(list(next_word.keys()))  # Random starting word pair\n",
    "print(generate_sentence(start_pair))\n"
   ]
  },
  {
   "cell_type": "markdown",
   "id": "80ffa3d6",
   "metadata": {},
   "source": [
    "QUESTION 6"
   ]
  },
  {
   "cell_type": "markdown",
   "id": "8a03b6da",
   "metadata": {},
   "source": [
    "- Monte Hall Problem,it was quick but too much details and long texts, therefore I asked for summary and minimized version it was easy to read but cut off some of the important datas. Overall, it was shorter than the actual explanation I found on google but trying to minimize it more is not helpful.\n",
    "\n",
    "-Markovian Chatbot, chatgpt can easily detect my mistakes and fix them for me but sometimes it was out of scope including the things we didn't learn from lecture/at least I didn't know/. Ecxept that it was time saving but it was giving little dry explenation of the function. Without human interaction it is little hard to actually understand the concept.\n"
   ]
  },
  {
   "cell_type": "markdown",
   "id": "3cb189a9",
   "metadata": {},
   "source": [
    "QUESTION 7"
   ]
  },
  {
   "cell_type": "markdown",
   "id": "f1cff016",
   "metadata": {},
   "source": [
    "I have been using ChatGPT for 2 lecture summary and 2 homework\n",
    "Pros:\n",
    "-time saving\n",
    "-efficient search\n",
    "-modify its answer by my own words\n",
    "-different type of explenation if you don't like or understand you can ask for more explanation or detailed one\n",
    "-coding easier\n",
    "Cons:\n",
    "-by minimizing lost some crucial datas\n",
    "-sometime lost the topic \n",
    "-sometime out of scope"
   ]
  },
  {
   "cell_type": "markdown",
   "id": "e6aafd13",
   "metadata": {},
   "source": [
    "SUMMARY:Markovian Chatbot:\n",
    "\n",
    "You explored how to create a Markovian chatbot using a list of words.\n",
    "You learned to build a simple Markov chain that predicts the next word based on the previous word.\n",
    "You extended the chatbot to use word pairs (bigrams) for better context in generating sentences.\n",
    "You simplified the code further by using lambda and improved readability with concise logic.\n",
    "Monty Hall Problem:\n",
    "\n",
    "You learned about the Monty Hall problem and its simulation.\n",
    "You implemented a simulation to compare winning probabilities between switching doors and staying with the initial choice.\n",
    "You understood the importance of commenting code for clarity and maintenance.\n",
    "    "
   ]
  },
  {
   "cell_type": "code",
   "execution_count": null,
   "id": "b422347a",
   "metadata": {},
   "outputs": [],
   "source": [
    "import panda as pd\n",
    "url=https://chatgpt.com/c/66eca62a-8b0c-8007-b76f-f3a1461764a2\n",
    "df=pd.read(url)"
   ]
  },
  {
   "cell_type": "code",
   "execution_count": null,
   "id": "19d46956",
   "metadata": {},
   "outputs": [],
   "source": []
  }
 ],
 "metadata": {
  "kernelspec": {
   "display_name": "Python 3 (ipykernel)",
   "language": "python",
   "name": "python3"
  },
  "language_info": {
   "codemirror_mode": {
    "name": "ipython",
    "version": 3
   },
   "file_extension": ".py",
   "mimetype": "text/x-python",
   "name": "python",
   "nbconvert_exporter": "python",
   "pygments_lexer": "ipython3",
   "version": "3.11.6"
  }
 },
 "nbformat": 4,
 "nbformat_minor": 5
}
